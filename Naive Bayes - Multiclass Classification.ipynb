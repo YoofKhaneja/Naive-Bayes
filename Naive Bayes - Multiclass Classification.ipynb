{
  "cells": [
    {
      "cell_type": "markdown",
      "metadata": {
        "id": "BKDs07e1LD6K"
      },
      "source": [
        "### File read-in"
      ]
    },
    {
      "cell_type": "code",
      "execution_count": 20,
      "metadata": {
        "id": "R3qwBgFbRWQ8"
      },
      "outputs": [],
      "source": [
        "names = []\n",
        "nationality = []"
      ]
    },
    {
      "cell_type": "code",
      "execution_count": 24,
      "metadata": {
        "colab": {
          "base_uri": "https://localhost:8080/"
        },
        "id": "095VusG7HTsE",
        "outputId": "c276dfbf-403d-414a-a73e-df7b7bae6839"
      },
      "outputs": [
        {
          "data": {
            "text/plain": [
              "500"
            ]
          },
          "execution_count": 24,
          "metadata": {},
          "output_type": "execute_result"
        }
      ],
      "source": [
        "arabic_names = []\n",
        "with open('arabic.txt', 'r', encoding = \"utf8\") as f:\n",
        "    for line in f:\n",
        "        an = f.readline().replace('\\n', '')\n",
        "        arabic_names.append(an)\n",
        "        names.append(an)\n",
        "        nationality.append('Arabic')\n",
        "len(set(arabic_names))"
      ]
    },
    {
      "cell_type": "code",
      "execution_count": 25,
      "metadata": {
        "colab": {
          "base_uri": "https://localhost:8080/"
        },
        "id": "RHEZWG2TM1f0",
        "outputId": "da41b1b9-a5ce-4c7c-a2ec-a3828cff8e37"
      },
      "outputs": [
        {
          "data": {
            "text/plain": [
              "500"
            ]
          },
          "execution_count": 25,
          "metadata": {},
          "output_type": "execute_result"
        }
      ],
      "source": [
        "greek_names = []\n",
        "with open('greek.txt', 'r', encoding = \"utf8\") as f:\n",
        "    for line in f:\n",
        "        gn = f.readline().replace('\\n', '')\n",
        "        greek_names.append(gn)\n",
        "        names.append(gn)\n",
        "        nationality.append('Greek')\n",
        "len(set(greek_names))"
      ]
    },
    {
      "cell_type": "code",
      "execution_count": 26,
      "metadata": {
        "colab": {
          "base_uri": "https://localhost:8080/"
        },
        "id": "7ErVLHpINzrO",
        "outputId": "2e9c26d3-a9d1-4055-9904-c3616ef8c7fe"
      },
      "outputs": [
        {
          "data": {
            "text/plain": [
              "439"
            ]
          },
          "execution_count": 26,
          "metadata": {},
          "output_type": "execute_result"
        }
      ],
      "source": [
        "japanese_names = []\n",
        "with open('japan.txt', 'r', encoding = \"utf8\") as f:\n",
        "    for line in f:\n",
        "        jn = f.readline().replace('\\n', '')\n",
        "        japanese_names.append(jn)\n",
        "        names.append(jn)\n",
        "        nationality.append('Japanese')\n",
        "len(set(japanese_names))"
      ]
    },
    {
      "cell_type": "code",
      "execution_count": 27,
      "metadata": {
        "colab": {
          "base_uri": "https://localhost:8080/"
        },
        "id": "eIR577rkOP5a",
        "outputId": "032ca5f9-1f13-41bf-f686-e125066ad1dc"
      },
      "outputs": [
        {
          "data": {
            "text/plain": [
              "500"
            ]
          },
          "execution_count": 27,
          "metadata": {},
          "output_type": "execute_result"
        }
      ],
      "source": [
        "us_names = []\n",
        "with open('us.txt', 'r', encoding = \"utf8\") as f:\n",
        "    for line in f:\n",
        "        un = f.readline().replace('\\n', '')\n",
        "        us_names.append(un)\n",
        "        names.append(un)\n",
        "        nationality.append('American')\n",
        "len(set(us_names))"
      ]
    },
    {
      "cell_type": "markdown",
      "metadata": {
        "id": "FrW-KXroOp40"
      },
      "source": [
        "### Combining names with nationalities"
      ]
    },
    {
      "cell_type": "code",
      "execution_count": 28,
      "metadata": {
        "colab": {
          "base_uri": "https://localhost:8080/",
          "height": 363
        },
        "id": "SEkwgDWtOabA",
        "outputId": "268baac6-0b8b-48a2-c629-7ea02ee53399"
      },
      "outputs": [
        {
          "data": {
            "text/html": [
              "<div>\n",
              "<style scoped>\n",
              "    .dataframe tbody tr th:only-of-type {\n",
              "        vertical-align: middle;\n",
              "    }\n",
              "\n",
              "    .dataframe tbody tr th {\n",
              "        vertical-align: top;\n",
              "    }\n",
              "\n",
              "    .dataframe thead th {\n",
              "        text-align: right;\n",
              "    }\n",
              "</style>\n",
              "<table border=\"1\" class=\"dataframe\">\n",
              "  <thead>\n",
              "    <tr style=\"text-align: right;\">\n",
              "      <th></th>\n",
              "      <th>Name</th>\n",
              "      <th>Nationality</th>\n",
              "    </tr>\n",
              "  </thead>\n",
              "  <tbody>\n",
              "    <tr>\n",
              "      <th>1728</th>\n",
              "      <td>Eric Wilson</td>\n",
              "      <td>American</td>\n",
              "    </tr>\n",
              "    <tr>\n",
              "      <th>513</th>\n",
              "      <td>Ήβη Πίσπα</td>\n",
              "      <td>Greek</td>\n",
              "    </tr>\n",
              "    <tr>\n",
              "      <th>1502</th>\n",
              "      <td>Nancy Johns</td>\n",
              "      <td>American</td>\n",
              "    </tr>\n",
              "    <tr>\n",
              "      <th>756</th>\n",
              "      <td>Περιστέρα Προύβα</td>\n",
              "      <td>Greek</td>\n",
              "    </tr>\n",
              "    <tr>\n",
              "      <th>22</th>\n",
              "      <td>المهندسة جهراء ارناؤوط</td>\n",
              "      <td>Arabic</td>\n",
              "    </tr>\n",
              "    <tr>\n",
              "      <th>882</th>\n",
              "      <td>Αδάμ Κρεμμύδας</td>\n",
              "      <td>Greek</td>\n",
              "    </tr>\n",
              "    <tr>\n",
              "      <th>397</th>\n",
              "      <td>وفاء بنو شعبة</td>\n",
              "      <td>Arabic</td>\n",
              "    </tr>\n",
              "    <tr>\n",
              "      <th>1036</th>\n",
              "      <td>佐々木 直人</td>\n",
              "      <td>Japanese</td>\n",
              "    </tr>\n",
              "    <tr>\n",
              "      <th>1089</th>\n",
              "      <td>前田 七夏</td>\n",
              "      <td>Japanese</td>\n",
              "    </tr>\n",
              "    <tr>\n",
              "      <th>1442</th>\n",
              "      <td>佐藤 治</td>\n",
              "      <td>Japanese</td>\n",
              "    </tr>\n",
              "  </tbody>\n",
              "</table>\n",
              "</div>"
            ],
            "text/plain": [
              "                        Name Nationality\n",
              "1728             Eric Wilson    American\n",
              "513                Ήβη Πίσπα       Greek\n",
              "1502             Nancy Johns    American\n",
              "756         Περιστέρα Προύβα       Greek\n",
              "22    المهندسة جهراء ارناؤوط      Arabic\n",
              "882           Αδάμ Κρεμμύδας       Greek\n",
              "397            وفاء بنو شعبة      Arabic\n",
              "1036                  佐々木 直人    Japanese\n",
              "1089                   前田 七夏    Japanese\n",
              "1442                    佐藤 治    Japanese"
            ]
          },
          "execution_count": 28,
          "metadata": {},
          "output_type": "execute_result"
        }
      ],
      "source": [
        "import pandas as pd\n",
        "import numpy as np\n",
        "\n",
        "people_data = pd.DataFrame(list(zip(names, nationality)), columns = ['Name', 'Nationality'])\n",
        "people_data.sample(n = 10)"
      ]
    },
    {
      "cell_type": "markdown",
      "metadata": {
        "id": "otfbp7PNm8J_"
      },
      "source": [
        "### Vectorizing the inputs"
      ]
    },
    {
      "cell_type": "code",
      "execution_count": 29,
      "metadata": {
        "colab": {
          "base_uri": "https://localhost:8080/"
        },
        "id": "mx5SPgSRnVlO",
        "outputId": "fe7e194a-fc8f-4225-834a-194ea6180fbd"
      },
      "outputs": [
        {
          "data": {
            "text/plain": [
              "(2000, 2061)"
            ]
          },
          "execution_count": 29,
          "metadata": {},
          "output_type": "execute_result"
        }
      ],
      "source": [
        "from sklearn.feature_extraction.text import CountVectorizer\n",
        "\n",
        "X = people_data['Name']\n",
        "Y = people_data['Nationality']\n",
        "\n",
        "vec = CountVectorizer()\n",
        "X_vec = vec.fit_transform(X)\n",
        "X_vec.shape"
      ]
    },
    {
      "cell_type": "code",
      "execution_count": 30,
      "metadata": {
        "colab": {
          "base_uri": "https://localhost:8080/",
          "height": 235
        },
        "id": "uX03HFbBspkr",
        "outputId": "1d652dfb-e058-4ee3-8f47-813e6463b3ed"
      },
      "outputs": [
        {
          "data": {
            "text/html": [
              "<div>\n",
              "<style scoped>\n",
              "    .dataframe tbody tr th:only-of-type {\n",
              "        vertical-align: middle;\n",
              "    }\n",
              "\n",
              "    .dataframe tbody tr th {\n",
              "        vertical-align: top;\n",
              "    }\n",
              "\n",
              "    .dataframe thead th {\n",
              "        text-align: right;\n",
              "    }\n",
              "</style>\n",
              "<table border=\"1\" class=\"dataframe\">\n",
              "  <thead>\n",
              "    <tr style=\"text-align: right;\">\n",
              "      <th></th>\n",
              "      <th>0</th>\n",
              "      <th>1</th>\n",
              "      <th>2</th>\n",
              "      <th>3</th>\n",
              "      <th>4</th>\n",
              "      <th>5</th>\n",
              "      <th>6</th>\n",
              "      <th>7</th>\n",
              "      <th>8</th>\n",
              "      <th>9</th>\n",
              "      <th>...</th>\n",
              "      <th>2051</th>\n",
              "      <th>2052</th>\n",
              "      <th>2053</th>\n",
              "      <th>2054</th>\n",
              "      <th>2055</th>\n",
              "      <th>2056</th>\n",
              "      <th>2057</th>\n",
              "      <th>2058</th>\n",
              "      <th>2059</th>\n",
              "      <th>2060</th>\n",
              "    </tr>\n",
              "  </thead>\n",
              "  <tbody>\n",
              "    <tr>\n",
              "      <th>0</th>\n",
              "      <td>0</td>\n",
              "      <td>0</td>\n",
              "      <td>0</td>\n",
              "      <td>0</td>\n",
              "      <td>0</td>\n",
              "      <td>0</td>\n",
              "      <td>0</td>\n",
              "      <td>0</td>\n",
              "      <td>0</td>\n",
              "      <td>0</td>\n",
              "      <td>...</td>\n",
              "      <td>0</td>\n",
              "      <td>0</td>\n",
              "      <td>0</td>\n",
              "      <td>0</td>\n",
              "      <td>0</td>\n",
              "      <td>0</td>\n",
              "      <td>0</td>\n",
              "      <td>0</td>\n",
              "      <td>0</td>\n",
              "      <td>0</td>\n",
              "    </tr>\n",
              "    <tr>\n",
              "      <th>1</th>\n",
              "      <td>0</td>\n",
              "      <td>0</td>\n",
              "      <td>0</td>\n",
              "      <td>0</td>\n",
              "      <td>0</td>\n",
              "      <td>0</td>\n",
              "      <td>0</td>\n",
              "      <td>0</td>\n",
              "      <td>0</td>\n",
              "      <td>0</td>\n",
              "      <td>...</td>\n",
              "      <td>0</td>\n",
              "      <td>0</td>\n",
              "      <td>0</td>\n",
              "      <td>0</td>\n",
              "      <td>0</td>\n",
              "      <td>0</td>\n",
              "      <td>0</td>\n",
              "      <td>0</td>\n",
              "      <td>0</td>\n",
              "      <td>0</td>\n",
              "    </tr>\n",
              "    <tr>\n",
              "      <th>2</th>\n",
              "      <td>0</td>\n",
              "      <td>0</td>\n",
              "      <td>0</td>\n",
              "      <td>0</td>\n",
              "      <td>0</td>\n",
              "      <td>0</td>\n",
              "      <td>0</td>\n",
              "      <td>0</td>\n",
              "      <td>0</td>\n",
              "      <td>0</td>\n",
              "      <td>...</td>\n",
              "      <td>0</td>\n",
              "      <td>0</td>\n",
              "      <td>0</td>\n",
              "      <td>0</td>\n",
              "      <td>0</td>\n",
              "      <td>0</td>\n",
              "      <td>0</td>\n",
              "      <td>0</td>\n",
              "      <td>0</td>\n",
              "      <td>0</td>\n",
              "    </tr>\n",
              "    <tr>\n",
              "      <th>3</th>\n",
              "      <td>0</td>\n",
              "      <td>0</td>\n",
              "      <td>0</td>\n",
              "      <td>0</td>\n",
              "      <td>0</td>\n",
              "      <td>0</td>\n",
              "      <td>0</td>\n",
              "      <td>0</td>\n",
              "      <td>0</td>\n",
              "      <td>0</td>\n",
              "      <td>...</td>\n",
              "      <td>0</td>\n",
              "      <td>0</td>\n",
              "      <td>0</td>\n",
              "      <td>0</td>\n",
              "      <td>0</td>\n",
              "      <td>0</td>\n",
              "      <td>0</td>\n",
              "      <td>0</td>\n",
              "      <td>0</td>\n",
              "      <td>0</td>\n",
              "    </tr>\n",
              "    <tr>\n",
              "      <th>4</th>\n",
              "      <td>0</td>\n",
              "      <td>0</td>\n",
              "      <td>0</td>\n",
              "      <td>0</td>\n",
              "      <td>0</td>\n",
              "      <td>0</td>\n",
              "      <td>0</td>\n",
              "      <td>0</td>\n",
              "      <td>0</td>\n",
              "      <td>0</td>\n",
              "      <td>...</td>\n",
              "      <td>0</td>\n",
              "      <td>0</td>\n",
              "      <td>0</td>\n",
              "      <td>0</td>\n",
              "      <td>0</td>\n",
              "      <td>0</td>\n",
              "      <td>0</td>\n",
              "      <td>0</td>\n",
              "      <td>0</td>\n",
              "      <td>0</td>\n",
              "    </tr>\n",
              "  </tbody>\n",
              "</table>\n",
              "<p>5 rows × 2061 columns</p>\n",
              "</div>"
            ],
            "text/plain": [
              "   0     1     2     3     4     5     6     7     8     9     ...  2051  \\\n",
              "0     0     0     0     0     0     0     0     0     0     0  ...     0   \n",
              "1     0     0     0     0     0     0     0     0     0     0  ...     0   \n",
              "2     0     0     0     0     0     0     0     0     0     0  ...     0   \n",
              "3     0     0     0     0     0     0     0     0     0     0  ...     0   \n",
              "4     0     0     0     0     0     0     0     0     0     0  ...     0   \n",
              "\n",
              "   2052  2053  2054  2055  2056  2057  2058  2059  2060  \n",
              "0     0     0     0     0     0     0     0     0     0  \n",
              "1     0     0     0     0     0     0     0     0     0  \n",
              "2     0     0     0     0     0     0     0     0     0  \n",
              "3     0     0     0     0     0     0     0     0     0  \n",
              "4     0     0     0     0     0     0     0     0     0  \n",
              "\n",
              "[5 rows x 2061 columns]"
            ]
          },
          "execution_count": 30,
          "metadata": {},
          "output_type": "execute_result"
        }
      ],
      "source": [
        "X_vec = X_vec.todense()\n",
        "X_features = pd.DataFrame(X_vec)\n",
        "X_features.head()"
      ]
    },
    {
      "cell_type": "code",
      "execution_count": 31,
      "metadata": {
        "colab": {
          "base_uri": "https://localhost:8080/"
        },
        "id": "vcfUrlU4Ejvx",
        "outputId": "7d013702-592c-47d5-a506-8c04e08adb18"
      },
      "outputs": [
        {
          "data": {
            "text/plain": [
              "2061"
            ]
          },
          "execution_count": 31,
          "metadata": {},
          "output_type": "execute_result"
        }
      ],
      "source": [
        "max_el = []\n",
        "for x in X_features.columns:\n",
        "    sx = set(X_features[x])\n",
        "    max_el.append(sx)\n",
        "len(max_el)"
      ]
    },
    {
      "cell_type": "markdown",
      "metadata": {
        "id": "pXfUGDYYTRMf"
      },
      "source": [
        "### Splitting into training and testing"
      ]
    },
    {
      "cell_type": "code",
      "execution_count": 42,
      "metadata": {
        "colab": {
          "base_uri": "https://localhost:8080/"
        },
        "id": "IK_pQy7xTP9f",
        "outputId": "3adb8605-8d88-451e-bd5c-39e0da89ca91"
      },
      "outputs": [
        {
          "data": {
            "text/plain": [
              "((1400, 2061), (1400,), (600, 2061), (600,))"
            ]
          },
          "execution_count": 42,
          "metadata": {},
          "output_type": "execute_result"
        }
      ],
      "source": [
        "from sklearn.model_selection import train_test_split\n",
        "\n",
        "x_train, x_test, y_train, y_test = train_test_split(X_features, Y, stratify = Y, test_size = 0.3, shuffle = True)\n",
        "x_train.shape, y_train.shape, x_test.shape, y_test.shape"
      ]
    },
    {
      "cell_type": "markdown",
      "metadata": {
        "id": "bprAGohknCkA"
      },
      "source": [
        "### Calculating likelihoods"
      ]
    },
    {
      "cell_type": "code",
      "execution_count": 43,
      "metadata": {
        "id": "kdl1YuTutPPJ"
      },
      "outputs": [],
      "source": [
        "import itertools\n",
        "import math\n",
        "from collections import Counter\n",
        "\n",
        "\n",
        "def likelihood(X, Y, L):\n",
        "\n",
        "    log_likelihood_dict = {}\n",
        "    classes = set(Y)\n",
        "\n",
        "    for fn in X.columns:\n",
        "        f_dict = {}\n",
        "        f = set(X[fn])\n",
        "        l = list(itertools.product(f, classes))\n",
        "        for item in l:\n",
        "            f_dict[item] = 0\n",
        "        t = [(a, b) for a, b in zip(X[fn], Y)]\n",
        "        tc = dict(Counter(t))\n",
        "        for d in list(f_dict.keys()):\n",
        "            if d in list(tc.keys()):\n",
        "                f_dict[d] = math.log(tc[d]/len(Y), 10)\n",
        "        log_likelihood_dict[fn] = f_dict\n",
        "\n",
        "    return log_likelihood_dict\n",
        "\n",
        "likelihood_probability = likelihood(x_train, y_train, max_el)"
      ]
    },
    {
      "cell_type": "markdown",
      "metadata": {
        "id": "uUkIFlJBnF-C"
      },
      "source": [
        "### Calculating prior probabilities of each class"
      ]
    },
    {
      "cell_type": "code",
      "execution_count": 44,
      "metadata": {
        "id": "k3tNEwfT9LFw"
      },
      "outputs": [],
      "source": [
        "def prior_y(C, Y):\n",
        "\n",
        "    label_count = 0\n",
        "    for y in Y:\n",
        "        if y == C:\n",
        "            label_count += 1\n",
        "            \n",
        "    return label_count / len(Y)\n",
        "\n",
        "prior_class_probability = {}\n",
        "for y in set(Y):\n",
        "    prior_class_probability[y] = math.log(prior_y(y, y_train), 10)"
      ]
    },
    {
      "cell_type": "markdown",
      "metadata": {
        "id": "7PoxPNdf38JE"
      },
      "source": [
        "### Testing for one sample"
      ]
    },
    {
      "cell_type": "code",
      "execution_count": 45,
      "metadata": {
        "id": "tN_dbwhrlHj8"
      },
      "outputs": [],
      "source": [
        "x_test = x_test.to_numpy()\n",
        "y_test = y_test.to_numpy()"
      ]
    },
    {
      "cell_type": "code",
      "execution_count": 46,
      "metadata": {
        "id": "NRlcD2xBlSTY"
      },
      "outputs": [],
      "source": [
        "test_sample = x_test[1]\n",
        "test_class = y_test[1]"
      ]
    },
    {
      "cell_type": "code",
      "execution_count": 47,
      "metadata": {
        "id": "NYq-teemmtrj"
      },
      "outputs": [],
      "source": [
        "def make_preds(x_in):\n",
        "\n",
        "    pred_scores = {}\n",
        "\n",
        "    for c in set(Y):\n",
        "        score = 0\n",
        "        for x in range(len(x_in)):\n",
        "            attrib_val = x_in[x]\n",
        "            lpx = likelihood_probability[x]\n",
        "            #print(likelihood_probability[x], x)\n",
        "            if (attrib_val, c) in list(lpx.keys()):\n",
        "                pval = lpx[(attrib_val, c)]\n",
        "            else:\n",
        "                pval = 0\n",
        "            #print((attrib_val, c), \"-> \", pval)\n",
        "            score += pval\n",
        "        score += prior_class_probability[c]\n",
        "        pred_scores[score] = c\n",
        "\n",
        "    final_pred = pred_scores[min(list(pred_scores.keys()))]\n",
        "    return final_pred"
      ]
    },
    {
      "cell_type": "code",
      "execution_count": 48,
      "metadata": {
        "colab": {
          "base_uri": "https://localhost:8080/",
          "height": 36
        },
        "id": "PLwXOgAYCmYO",
        "outputId": "73298fb8-f304-4149-aa9c-710e1241d2cc"
      },
      "outputs": [
        {
          "data": {
            "text/plain": [
              "'American'"
            ]
          },
          "execution_count": 48,
          "metadata": {},
          "output_type": "execute_result"
        }
      ],
      "source": [
        "test_pred = make_preds(test_sample)\n",
        "test_pred"
      ]
    },
    {
      "cell_type": "code",
      "execution_count": 49,
      "metadata": {
        "colab": {
          "base_uri": "https://localhost:8080/",
          "height": 36
        },
        "id": "iUbV90l75tDh",
        "outputId": "57ba29b8-764a-43fa-90de-4c8269786c02"
      },
      "outputs": [
        {
          "data": {
            "text/plain": [
              "'American'"
            ]
          },
          "execution_count": 49,
          "metadata": {},
          "output_type": "execute_result"
        }
      ],
      "source": [
        "test_class"
      ]
    },
    {
      "cell_type": "markdown",
      "metadata": {
        "id": "tG-pD-bO_lX2"
      },
      "source": [
        "### Testing for all"
      ]
    },
    {
      "cell_type": "code",
      "execution_count": 50,
      "metadata": {
        "id": "Ugq46oNl6D77"
      },
      "outputs": [],
      "source": [
        "y_pred = []\n",
        "\n",
        "for i in x_test:\n",
        "    y_pred.append(make_preds(i))"
      ]
    },
    {
      "cell_type": "code",
      "execution_count": 51,
      "metadata": {
        "colab": {
          "base_uri": "https://localhost:8080/"
        },
        "id": "bahP_zNVIG0v",
        "outputId": "ac4ed6f4-8f8f-4817-df55-cfc4a8c5dc75"
      },
      "outputs": [
        {
          "data": {
            "text/plain": [
              "86.16666666666667"
            ]
          },
          "execution_count": 51,
          "metadata": {},
          "output_type": "execute_result"
        }
      ],
      "source": [
        "acc_list = y_pred == y_test\n",
        "accuracy = (acc_list.sum()/len(acc_list)) * 100\n",
        "accuracy"
      ]
    }
  ],
  "metadata": {
    "colab": {
      "provenance": []
    },
    "kernelspec": {
      "display_name": "Python 3.10.7 64-bit",
      "language": "python",
      "name": "python3"
    },
    "language_info": {
      "codemirror_mode": {
        "name": "ipython",
        "version": 3
      },
      "file_extension": ".py",
      "mimetype": "text/x-python",
      "name": "python",
      "nbconvert_exporter": "python",
      "pygments_lexer": "ipython3",
      "version": "3.10.7"
    },
    "vscode": {
      "interpreter": {
        "hash": "a142374344a434e540cc66d0e40c6b46d48ceabbdee1855ae756d796bf39d241"
      }
    }
  },
  "nbformat": 4,
  "nbformat_minor": 0
}
